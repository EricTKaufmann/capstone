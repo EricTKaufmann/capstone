{
 "cells": [
  {
   "attachments": {},
   "cell_type": "markdown",
   "metadata": {},
   "source": [
    "Remove columns from Kaggle Health Care spending dataset. Then sourt spending by country by decending pecentage."
   ]
  },
  {
   "cell_type": "code",
   "execution_count": 23,
   "metadata": {},
   "outputs": [],
   "source": [
    "import pandas as pd\n",
    "\n",
    "# Read the CSV file into a DataFrame\n",
    "df = pd.read_csv('kghlthspnd2010.csv')\n",
    "\n",
    "# Remove the `index` column\n",
    "df = df.drop('index', axis=1)\n",
    "\n",
    "# Remove the `FREQUENCY` column\n",
    "df = df.drop('FREQUENCY', axis=1)\n",
    "\n",
    "# Sort the `Value` column in descending order\n",
    "df = df.sort_values('Value', ascending=False)\n",
    "\n",
    "# Save the DataFrame to a new CSV file\n",
    "df.to_csv('tstkghlthspnd2010.csv')"
   ]
  }
 ],
 "metadata": {
  "kernelspec": {
   "display_name": "Python 3",
   "language": "python",
   "name": "python3"
  },
  "language_info": {
   "codemirror_mode": {
    "name": "ipython",
    "version": 3
   },
   "file_extension": ".py",
   "mimetype": "text/x-python",
   "name": "python",
   "nbconvert_exporter": "python",
   "pygments_lexer": "ipython3",
   "version": "3.11.3"
  },
  "orig_nbformat": 4
 },
 "nbformat": 4,
 "nbformat_minor": 2
}
